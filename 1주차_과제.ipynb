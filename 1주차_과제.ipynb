{
  "nbformat": 4,
  "nbformat_minor": 0,
  "metadata": {
    "colab": {
      "name": "1주차 과제",
      "provenance": [],
      "authorship_tag": "ABX9TyO1cOwzSEzTYz/CO3vrcyn+",
      "include_colab_link": true
    },
    "kernelspec": {
      "name": "python3",
      "display_name": "Python 3"
    }
  },
  "cells": [
    {
      "cell_type": "markdown",
      "metadata": {
        "id": "view-in-github",
        "colab_type": "text"
      },
      "source": [
        "<a href=\"https://colab.research.google.com/github/Kim-dong-chan/kim/blob/master/1%EC%A3%BC%EC%B0%A8_%EA%B3%BC%EC%A0%9C.ipynb\" target=\"_parent\"><img src=\"https://colab.research.google.com/assets/colab-badge.svg\" alt=\"Open In Colab\"/></a>"
      ]
    },
    {
      "cell_type": "markdown",
      "metadata": {
        "id": "493RU7-d5FzC",
        "colab_type": "text"
      },
      "source": [
        ""
      ]
    },
    {
      "cell_type": "markdown",
      "metadata": {
        "id": "Aj8a_gZ-5H2U",
        "colab_type": "text"
      },
      "source": [
        "# 언어인공지능\n",
        "## 솔트록스의 톡봇\n",
        "### 페이스북과 카카오, 라인 등 다중 채널을 동지 지원하고 자연어이해 엔진을 통해 의도분석, 다국어 분석을 하며 질의응답을 심층적으로 사실기반, 탬플릿 기반, 딥러닝기반, 검색기반 4가지 기반등을 융합한 기술, 별도 개발된 톡봇을 묶어서 하나의 그룹 봇을 만들수도 있고, 축적된 상담 지식을 재활용도 가능한 인공지능입니다.\n",
        "\n",
        "#자울주행 인공지능\n",
        "## 테슬라의 오토파일럿\n",
        "### 테슬라 자동차에서 사용되고 있는 ADAS시스템으로서 운전자 없이 자동차를 운항하는 것을 목표로 하고있는 기능으로 지정된 최고속도로 운행하며 앞차와 간견기 가까워지면 속도를 줄이거나 정차하고 앞차와의 간격이 늘어나면 다시 최고속도까지 가속하는 교통인식 크루즈 콘트롤의 기능과 현재의 차선을 계속 유지하며 운행하는 오토스티어 기능이 있습니다. \n",
        "\n",
        "# 이미지 인공지능\n",
        "## 구글의 비전api\n",
        "### 구글의 머신러닝 기술을 이용하여 이미지를 분석하는데 사물,로고를 탐지하고 텍스르틑 추출하며 웹에서 유사이미지를 감지합니다.\n",
        "\n",
        "#음석 인공지능\n",
        "## 삼성의 빅스비보이스\n",
        "### 삼성의 갤럭시 스마트폰에 탑재되어 있으며 음성으로 호출하여 작업을 할 수 있으며 \"누구에게 전화걸어줘\", \"1시간후 알람\", \"**앱을 열어줘\" 등과 같은 명령들을 할 수 있는 인공지능 입니다."
      ]
    }
  ]
}